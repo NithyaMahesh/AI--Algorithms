{
 "cells": [
  {
   "cell_type": "markdown",
   "metadata": {},
   "source": [
    "1. BRITISH MUSEUM SEARCH"
   ]
  },
  {
   "cell_type": "code",
   "execution_count": 79,
   "metadata": {},
   "outputs": [],
   "source": [
    "def british_museum_search(graph, start, goal):\n",
    "    all_paths = []\n",
    "\n",
    "    def explore(node, path):\n",
    "        if node == goal:\n",
    "            all_paths.append(path)\n",
    "        for neighbor in graph.get(node, {}):\n",
    "            if neighbor not in path:  \n",
    "                explore(neighbor, path + [neighbor])\n",
    "\n",
    "    explore(start, [start])\n",
    "\n",
    "    if all_paths:\n",
    "        optimal_path = min(all_paths, key=lambda x: sum(graph[x[i]][x[i + 1]] for i in range(len(x) - 1)))\n",
    "        cost = sum(graph[optimal_path[i]][optimal_path[i + 1]] for i in range(len(optimal_path) - 1))\n",
    "        return f\"Optimal path: {' -> '.join(optimal_path)}, Cost: {cost}\"\n",
    "    return f\"No path found from {start} to {goal}.\"\n"
   ]
  },
  {
   "cell_type": "markdown",
   "metadata": {},
   "source": [
    "2. BREADTH FIRST SEARCH"
   ]
  },
  {
   "cell_type": "code",
   "execution_count": 80,
   "metadata": {},
   "outputs": [],
   "source": [
    "def breadth_first_search(graph, start, goal):\n",
    "    visited = set()\n",
    "    queue = [(start, [start])] \n",
    "\n",
    "    while queue:\n",
    "        node, path = queue.pop(0)\n",
    "        if node == goal:\n",
    "            cost = sum(graph[path[i]][path[i + 1]] for i in range(len(path) - 1))\n",
    "            return f\"BFS path: {' -> '.join(path)}, Cost: {cost}\"\n",
    "\n",
    "        visited.add(node)\n",
    "        for neighbor in graph.get(node, {}):\n",
    "            if neighbor not in visited:\n",
    "                queue.append((neighbor, path + [neighbor]))\n",
    "\n",
    "    return f\"No path found from {start} to {goal}.\"\n"
   ]
  },
  {
   "cell_type": "markdown",
   "metadata": {},
   "source": [
    "3. DEPTH FIRST SEARCH"
   ]
  },
  {
   "cell_type": "code",
   "execution_count": 81,
   "metadata": {},
   "outputs": [],
   "source": [
    "def depth_first_search(graph, start, goal):\n",
    "    visited = set()\n",
    "    stack = [(start, [start])]\n",
    "\n",
    "    while stack:\n",
    "        node, path = stack.pop()\n",
    "        if node == goal:\n",
    "            cost = sum(graph[path[i]][path[i + 1]] for i in range(len(path) - 1))\n",
    "            return f\"DFS path: {' -> '.join(path)}, Cost: {cost}\"\n",
    "\n",
    "        visited.add(node)\n",
    "        for neighbor in graph.get(node, {}):\n",
    "            if neighbor not in visited:\n",
    "                stack.append((neighbor, path + [neighbor]))\n",
    "\n",
    "    return f\"No path found from {start} to {goal}.\"\n"
   ]
  },
  {
   "cell_type": "markdown",
   "metadata": {},
   "source": [
    "4. BEAM SEARCH"
   ]
  },
  {
   "cell_type": "code",
   "execution_count": 82,
   "metadata": {},
   "outputs": [],
   "source": [
    "import heapq\n",
    "\n",
    "def beam_search(graph, start, goal, beam_width):\n",
    "    open_list = [(0, start, [start])]  \n",
    "    closed_list = set()\n",
    "\n",
    "    while open_list:\n",
    "        open_list.sort()  \n",
    "        open_list = open_list[:beam_width]  \n",
    "\n",
    "        next_level = []\n",
    "        for current_cost, current_node, path in open_list:\n",
    "            if current_node == goal:\n",
    "                return f\"Beam Search path: {' -> '.join(path)}, Cost: {current_cost}\"\n",
    "\n",
    "            closed_list.add(current_node)\n",
    "\n",
    "            for neighbor, cost in graph.get(current_node, {}).items():\n",
    "                if neighbor in closed_list:\n",
    "                    continue\n",
    "                new_cost = current_cost + cost\n",
    "                new_path = path + [neighbor]\n",
    "                next_level.append((new_cost, neighbor, new_path))\n",
    "\n",
    "        open_list = next_level\n",
    "\n",
    "    return f\"No path found from {start} to {goal}.\"\n",
    "\n"
   ]
  },
  {
   "cell_type": "markdown",
   "metadata": {},
   "source": [
    "5. HILL CLIMBING"
   ]
  },
  {
   "cell_type": "code",
   "execution_count": 83,
   "metadata": {},
   "outputs": [],
   "source": [
    "import random\n",
    "\n",
    "def hill_climbing(graph, start, goal):\n",
    "    heuristics = {node: random.randint(1, 10) for node in graph}\n",
    "    \n",
    "    heuristics[goal] = 0\n",
    "    \n",
    "    current_node = start\n",
    "    path = [current_node]\n",
    "\n",
    "    while current_node != goal:\n",
    "        neighbors = graph.get(current_node, {})\n",
    "        \n",
    "        if not neighbors:\n",
    "            return f\"No path found from {start} to {goal}.\"\n",
    "\n",
    "        next_node = min(neighbors, key=lambda neighbor: neighbors[neighbor] + heuristics[neighbor])\n",
    "\n",
    "        if neighbors[next_node] + heuristics[next_node] >= neighbors.get(current_node, float('inf')) + heuristics.get(current_node, float('inf')):\n",
    "            break\n",
    "        \n",
    "        path.append(next_node)\n",
    "        current_node = next_node\n",
    "    if current_node == goal:\n",
    "        cost = sum(graph[path[i]][path[i + 1]] for i in range(len(path) - 1))\n",
    "        return f\"Hill Climbing Path: {' -> '.join(path)}, Cost: {cost}, Heuristics: {heuristics}\"\n",
    "    return f\"No path found from {start} to {goal}.\"\n"
   ]
  },
  {
   "cell_type": "markdown",
   "metadata": {},
   "source": [
    "6. ORACLE"
   ]
  },
  {
   "cell_type": "code",
   "execution_count": 84,
   "metadata": {},
   "outputs": [],
   "source": [
    "def oracle_search(graph, start, goal):\n",
    "    oracle_cost = float('inf')\n",
    "    oracle_path = None\n",
    "    \n",
    "    def british_museum_search(node, current_path, current_cost):\n",
    "        nonlocal oracle_cost, oracle_path\n",
    "        \n",
    "        if node == goal:\n",
    "            if current_cost < oracle_cost:\n",
    "                oracle_cost = current_cost\n",
    "                oracle_path = list(current_path)\n",
    "            return\n",
    "        \n",
    "        if current_cost >= oracle_cost:\n",
    "            return\n",
    "        \n",
    "        for neighbor in graph.get(node, {}):\n",
    "            if neighbor not in current_path:  \n",
    "                current_path.append(neighbor)\n",
    "                british_museum_search(neighbor, current_path, current_cost + graph[node][neighbor])\n",
    "                current_path.pop()  \n",
    "\n",
    "    british_museum_search(start, [start], 0)\n",
    "\n",
    "    return oracle_path, oracle_cost "
   ]
  },
  {
   "cell_type": "markdown",
   "metadata": {},
   "source": [
    "7. BRANCH AND BOUND"
   ]
  },
  {
   "cell_type": "code",
   "execution_count": 85,
   "metadata": {},
   "outputs": [],
   "source": [
    "import heapq\n",
    "\n",
    "def branch_and_bound(graph, start, goal, oracle_cost):\n",
    "\n",
    "    queue = []\n",
    "    heapq.heappush(queue, (0, [start]))  \n",
    "    visited = set()\n",
    "\n",
    "    best_path = None\n",
    "    best_cost = float('inf')\n",
    "\n",
    "    while queue:\n",
    "        cost, path = heapq.heappop(queue)\n",
    "        current_node = path[-1]\n",
    "\n",
    "        if current_node == goal:\n",
    "            if cost < best_cost:\n",
    "                best_cost = cost\n",
    "                best_path = path\n",
    "            continue\n",
    "\n",
    "        if cost > oracle_cost:\n",
    "            continue\n",
    "\n",
    "        if current_node in visited:\n",
    "            continue\n",
    "        visited.add(current_node)\n",
    "        for neighbor, weight in graph[current_node].items():\n",
    "            if neighbor not in visited:\n",
    "                new_cost = cost + weight\n",
    "                heapq.heappush(queue, (new_cost, path + [neighbor]))\n",
    "\n",
    "    if best_cost <= oracle_cost:\n",
    "        oracle_comparison = f\"Branch and Bound performed optimally or better with cost {best_cost} (Oracle cost: {oracle_cost}).\"\n",
    "    else:\n",
    "        oracle_comparison = f\"Branch and Bound performed worse with cost {best_cost} (Oracle cost: {oracle_cost}).\"\n",
    "\n",
    "    return best_path, best_cost, oracle_comparison"
   ]
  },
  {
   "cell_type": "markdown",
   "metadata": {},
   "source": [
    "8. BRANCH AND BOUND + DEAD HORSE PRINCIPLE"
   ]
  },
  {
   "cell_type": "code",
   "execution_count": 86,
   "metadata": {},
   "outputs": [],
   "source": [
    "def branch_and_bound_dead_horse(graph, start, goal, oracle_cost):\n",
    "    stack = [(0, start, [start])]\n",
    "    visited = set()  \n",
    "\n",
    "    while stack:\n",
    "        current_cost, current_node, path = stack.pop()\n",
    "\n",
    "        if current_node == goal:\n",
    "            return f\"Branch and Bound (Dead Horse) path: {' -> '.join(path)}, Cost: {current_cost}\"\n",
    "\n",
    "        visited.add(current_node)\n",
    "\n",
    "        for neighbor, cost in graph.get(current_node, {}).items():\n",
    "            if neighbor in visited:\n",
    "                continue  \n",
    "\n",
    "            new_cost = current_cost + cost\n",
    "            new_path = path + [neighbor]\n",
    "\n",
    "            if new_cost > oracle_cost:\n",
    "                continue\n",
    "\n",
    "            stack.append((new_cost, neighbor, new_path))\n",
    "\n",
    "    return f\"No path found from {start} to {goal}.\"\n"
   ]
  },
  {
   "cell_type": "markdown",
   "metadata": {},
   "source": [
    "9. BRANCH AND BOUND + HEURISTICS"
   ]
  },
  {
   "cell_type": "code",
   "execution_count": 87,
   "metadata": {},
   "outputs": [],
   "source": [
    "import heapq\n",
    "\n",
    "def branch_and_bound_heuristics(graph, start, goal, heuristic, oracle_cost):\n",
    "    open_list = [(0, start, [start])]  \n",
    "    closed_list = set()\n",
    "    best_cost = float('inf')  \n",
    "\n",
    "    while open_list:\n",
    "        current_cost, current_node, path = heapq.heappop(open_list)\n",
    "\n",
    "        if current_node == goal:\n",
    "            if current_cost < best_cost:\n",
    "                best_cost = current_cost\n",
    "            return f\"Branch and Bound (Heuristics) path: {' -> '.join(path)}, Cost: {best_cost}\"\n",
    "\n",
    "        closed_list.add(current_node)\n",
    "\n",
    "        for neighbor, cost in graph.get(current_node, {}).items():\n",
    "            if neighbor in closed_list:\n",
    "                continue\n",
    "\n",
    "            new_cost = current_cost + cost\n",
    "            new_path = path + [neighbor]\n",
    "\n",
    "            if new_cost >= oracle_cost:\n",
    "                continue  \n",
    "\n",
    "            if new_cost < best_cost:\n",
    "                priority = new_cost + heuristic(neighbor, goal)\n",
    "                heapq.heappush(open_list, (priority, neighbor, new_path))\n",
    "\n",
    "    return f\"No path found from {start} to {goal}.\""
   ]
  },
  {
   "cell_type": "markdown",
   "metadata": {},
   "source": [
    "10. A*"
   ]
  },
  {
   "cell_type": "code",
   "execution_count": 88,
   "metadata": {},
   "outputs": [],
   "source": [
    "import heapq\n",
    "\n",
    "def a_star(start, goal, graph): \n",
    "\n",
    "    def heuristic(node, goal):\n",
    "        return abs(ord(goal) - ord(node))\n",
    "\n",
    "    open_list = [(0, start)]  \n",
    "    closed_list = set()  \n",
    "    g_scores = {start: 0}  \n",
    "    parents = {start: None}  \n",
    "\n",
    "    oracle_path, oracle_cost = oracle_search(graph,start, goal)  \n",
    "\n",
    "    while open_list:\n",
    "        f_score, current = heapq.heappop(open_list)\n",
    "\n",
    "        if current == goal:\n",
    "            path = []\n",
    "            while current is not None:\n",
    "                path.append(current)\n",
    "                current = parents[current]\n",
    "            \n",
    "            path = path[::-1]  \n",
    "            cost = sum(graph[path[i]][path[i + 1]] for i in range(len(path) - 1))\n",
    "            \n",
    "            return f\"Path: {' -> '.join(path)}, Cost: {cost}\"\n",
    "\n",
    "        closed_list.add(current)\n",
    "\n",
    "        for neighbor, cost in graph[current].items():\n",
    "            if neighbor in closed_list:\n",
    "                continue\n",
    "\n",
    "            tentative_g_score = g_scores[current] + cost\n",
    "\n",
    "            if neighbor not in g_scores or tentative_g_score < g_scores[neighbor]:\n",
    "                g_scores[neighbor] = tentative_g_score\n",
    "\n",
    "                heuristic_cost = heuristic(neighbor, goal)\n",
    "                if oracle_cost < heuristic_cost:\n",
    "                    priority = tentative_g_score + oracle_cost\n",
    "                else:\n",
    "                    priority = tentative_g_score + heuristic_cost\n",
    "\n",
    "                heapq.heappush(open_list, (priority, neighbor))\n",
    "                parents[neighbor] = current\n",
    "\n",
    "    return f\"No path found from {start} to {goal}.\"\n"
   ]
  },
  {
   "cell_type": "markdown",
   "metadata": {},
   "source": [
    "11. AO*"
   ]
  },
  {
   "cell_type": "code",
   "execution_count": 89,
   "metadata": {},
   "outputs": [],
   "source": [
    "def ao_star(conditions, H, start, graph, goal):\n",
    "    main_nodes = list(conditions.keys())\n",
    "    main_nodes.reverse()\n",
    "    least_cost = {}\n",
    "    oracle_path, oracle_cost = oracle_search(graph, start, goal)\n",
    "\n",
    "    print(\"Assumed Heuristic Values:\")\n",
    "    for node, value in H.items():\n",
    "        print(f\"{node}: {value}\")\n",
    "    \n",
    "    for key in main_nodes:\n",
    "        costs = {}\n",
    "        \n",
    "        if 'AND' in conditions[key]:\n",
    "            AND_nodes = conditions[key]['AND']\n",
    "            PathA = sum(H[node] for node in AND_nodes)  \n",
    "            if PathA <= oracle_cost:  \n",
    "                costs[' AND '.join(AND_nodes)] = PathA\n",
    "                \n",
    "        if 'OR' in conditions[key]:\n",
    "            OR_nodes = conditions[key]['OR']\n",
    "            PathB = min(H[node] for node in OR_nodes)  \n",
    "            if PathB <= oracle_cost:  \n",
    "                costs[' OR '.join(OR_nodes)] = PathB\n",
    "        \n",
    "        if costs:\n",
    "            least_cost[key] = costs  \n",
    "    \n",
    "    def find_shortest_path(node):\n",
    "        path = node\n",
    "        total_cost = 0\n",
    "        \n",
    "        if node in least_cost.keys():\n",
    "            min_cost = min(least_cost[node].values())  \n",
    "            key = list(least_cost[node].keys())  \n",
    "            values = list(least_cost[node].values())  \n",
    "            index = values.index(min_cost)  \n",
    "            next_nodes = key[index].split(' AND ' if 'AND' in key[index] else ' OR ')\n",
    "            \n",
    "            if len(next_nodes) == 1:\n",
    "                next_node = next_nodes[0]\n",
    "                subpath, subcost = find_shortest_path(next_node)  \n",
    "                path += ' --> ' + subpath\n",
    "                total_cost += subcost\n",
    "            else:\n",
    "                path += ' --> (' + key[index] + ') '\n",
    "                subpaths = []\n",
    "                for next_node in next_nodes:\n",
    "                    subpath, subcost = find_shortest_path(next_node)\n",
    "                    subpaths.append(subpath)\n",
    "                    total_cost += subcost\n",
    "                path += ' + '.join(subpaths)\n",
    "        \n",
    "        total_cost += H[node]  \n",
    "        return path, total_cost\n",
    "    \n",
    "    path_result, path_cost = find_shortest_path(start)\n",
    "    \n",
    "    return f\"AO* path: {path_result}, Cost of Path: {path_cost}\"\n"
   ]
  },
  {
   "cell_type": "markdown",
   "metadata": {},
   "source": [
    "12. BEST FIRST SEARCH"
   ]
  },
  {
   "cell_type": "code",
   "execution_count": 90,
   "metadata": {},
   "outputs": [],
   "source": [
    "import heapq\n",
    "\n",
    "def best_first_search(start, goal, heuristic, get_neighbors, graph):\n",
    "    oracle_path,oracle_cost = oracle_search(graph, start, goal) \n",
    "    open_list = [(heuristic(start, goal), 0, start)] \n",
    "    closed_list = set() \n",
    "    parents = {start: None}\n",
    "    best_path = None\n",
    "    best_cost = float('inf')  \n",
    "    \n",
    "    while open_list:\n",
    "        _, current_cost, current = heapq.heappop(open_list)\n",
    "\n",
    "        if current == goal:\n",
    "            path = []\n",
    "            while current is not None:\n",
    "                path.append(current)\n",
    "                current = parents[current]\n",
    "            path = path[::-1]  \n",
    "            \n",
    "            total_cost = sum(graph[path[i]][path[i + 1]] for i in range(len(path) - 1))\n",
    "            \n",
    "            if total_cost < oracle_cost:\n",
    "                best_path = path\n",
    "                best_cost = total_cost\n",
    "            \n",
    "            return f\"Best First Search path: {' -> '.join(best_path)}, Cost: {best_cost}\"  # Return valid path and cost\n",
    "\n",
    "        closed_list.add(current)\n",
    "\n",
    "        for neighbor in get_neighbors(current):\n",
    "            if neighbor in closed_list:\n",
    "                continue\n",
    "            \n",
    "            tentative_cost = current_cost + graph[current][neighbor]\n",
    "            \n",
    "            if tentative_cost < oracle_cost:  \n",
    "                parents[neighbor] = current\n",
    "                heapq.heappush(open_list, (heuristic(neighbor, goal), tentative_cost, neighbor))\n",
    "    \n",
    "    return f\"No valid path found from {start} to {goal} within the oracle cost.\" "
   ]
  },
  {
   "cell_type": "code",
   "execution_count": 91,
   "metadata": {},
   "outputs": [
    {
     "data": {
      "application/vnd.jupyter.widget-view+json": {
       "model_id": "157f6f2b0d084191b7e3bb1819e24c36",
       "version_major": 2,
       "version_minor": 0
      },
      "text/plain": [
       "Textarea(value='', description='Graph (dict):', layout=Layout(height='100px', width='500px'))"
      ]
     },
     "metadata": {},
     "output_type": "display_data"
    },
    {
     "data": {
      "application/vnd.jupyter.widget-view+json": {
       "model_id": "ceb237a566564736a45e47ed07e13a7d",
       "version_major": 2,
       "version_minor": 0
      },
      "text/plain": [
       "Text(value='A', description='Start Node:')"
      ]
     },
     "metadata": {},
     "output_type": "display_data"
    },
    {
     "data": {
      "application/vnd.jupyter.widget-view+json": {
       "model_id": "82fabfe442df4bd38904d1d028b57b1f",
       "version_major": 2,
       "version_minor": 0
      },
      "text/plain": [
       "Text(value='D', description='Goal Node:')"
      ]
     },
     "metadata": {},
     "output_type": "display_data"
    },
    {
     "data": {
      "application/vnd.jupyter.widget-view+json": {
       "model_id": "137ac8d6ce39401e8f21d33e7a9e9b6b",
       "version_major": 2,
       "version_minor": 0
      },
      "text/plain": [
       "Dropdown(description='Algorithm:', options=('BFS', 'DFS', 'A*', 'Hill Climbing', 'Best First Search', 'Beam Se…"
      ]
     },
     "metadata": {},
     "output_type": "display_data"
    },
    {
     "data": {
      "application/vnd.jupyter.widget-view+json": {
       "model_id": "eaf1c7b8326044859542c042ac774c41",
       "version_major": 2,
       "version_minor": 0
      },
      "text/plain": [
       "Button(description='Search', style=ButtonStyle())"
      ]
     },
     "metadata": {},
     "output_type": "display_data"
    },
    {
     "data": {
      "application/vnd.jupyter.widget-view+json": {
       "model_id": "d7b83534df484a43b2d10f06f6cf92dd",
       "version_major": 2,
       "version_minor": 0
      },
      "text/plain": [
       "Output()"
      ]
     },
     "metadata": {},
     "output_type": "display_data"
    }
   ],
   "source": [
    "import ipywidgets as widgets\n",
    "from IPython.display import display\n",
    "import heapq\n",
    "import random\n",
    "\n",
    "def run_algorithm(selected_algorithm, graph, start, goal):\n",
    "    heuristic = lambda x, y: abs(ord(x) - ord(y))  \n",
    "    oracle_path, oracle_cost = oracle_search(graph, start, goal)\n",
    "    \n",
    "    if selected_algorithm == 'BFS':\n",
    "        return breadth_first_search(graph, start, goal)\n",
    "    elif selected_algorithm == 'DFS':\n",
    "        return depth_first_search(graph, start, goal)\n",
    "    elif selected_algorithm == 'A*':\n",
    "        return a_star(start, goal, graph)  \n",
    "    elif selected_algorithm == 'Hill Climbing':\n",
    "        return hill_climbing(graph, start, goal)\n",
    "    elif selected_algorithm == 'Best First Search':\n",
    "        return best_first_search(start, goal, heuristic, lambda node: graph[node].keys(), graph)\n",
    "    elif selected_algorithm == 'AO*':\n",
    "        H = {node: random.randint(1, 10) for node in graph.keys()}  \n",
    "        conditions = {node: {} for node in graph.keys()}\n",
    "        for node in graph:\n",
    "            neighbors = list(graph[node].keys())\n",
    "            if len(neighbors) > 1:\n",
    "                conditions[node]['AND'] = neighbors \n",
    "            elif neighbors:\n",
    "                conditions[node]['OR'] = neighbors  \n",
    "        return ao_star(conditions, H, start, graph, goal)\n",
    "    elif selected_algorithm == 'British Museum Search':\n",
    "        return british_museum_search(graph, start, goal)\n",
    "    elif selected_algorithm == 'Oracle Search':\n",
    "        if oracle_path:\n",
    "            return f\"Oracle path: {' -> '.join(oracle_path)}, Cost: {oracle_cost}\"\n",
    "        else:\n",
    "            return f\"No path found from {start} to {goal}.\"\n",
    "    elif selected_algorithm == 'Branch and Bound':\n",
    "        return branch_and_bound(graph, start, goal, oracle_cost)\n",
    "    elif selected_algorithm == 'Branch and Bound (Dead Horse)':\n",
    "        return branch_and_bound_dead_horse(graph, start, goal, oracle_cost)\n",
    "    elif selected_algorithm == 'Branch and Bound (Heuristics)':\n",
    "        return branch_and_bound_heuristics(graph, start, goal, heuristic, oracle_cost)\n",
    "    elif selected_algorithm == 'Beam Search':\n",
    "        return beam_search(graph, start, goal, oracle_cost)\n",
    "    else:\n",
    "        return \"Algorithm not implemented.\"\n",
    "\n",
    "graph_text = widgets.Textarea(\n",
    "    description='Graph (dict):',\n",
    "    layout=widgets.Layout(width='500px', height='100px'))\n",
    "start_text = widgets.Text(value='A', description='Start Node:')\n",
    "goal_text = widgets.Text(value='D', description='Goal Node:')\n",
    "algorithm_dropdown = widgets.Dropdown(\n",
    "    options=['BFS', 'DFS', 'A*', 'Hill Climbing', 'Best First Search', 'Beam Search',\n",
    "             'Branch and Bound', 'Branch and Bound (Dead Horse)', 'Branch and Bound (Heuristics)',\n",
    "             'British Museum Search', 'Oracle Search', 'AO*'],\n",
    "    description='Algorithm:')\n",
    "search_button = widgets.Button(description=\"Search\")\n",
    "output = widgets.Output()\n",
    "\n",
    "def run_search(button):\n",
    "    try:\n",
    "        graph = eval(graph_text.value)\n",
    "        start = start_text.value\n",
    "        goal = goal_text.value\n",
    "        selected_algorithm = algorithm_dropdown.value\n",
    "        result = run_algorithm(selected_algorithm, graph, start, goal)\n",
    "    except Exception as e:\n",
    "        result = f\"Error: {e}\"\n",
    "    \n",
    "    output.clear_output()\n",
    "    with output:\n",
    "        print(result)\n",
    "\n",
    "search_button.on_click(run_search)\n",
    "\n",
    "display(graph_text, start_text, goal_text, algorithm_dropdown, search_button, output)\n"
   ]
  }
 ],
 "metadata": {
  "kernelspec": {
   "display_name": "base",
   "language": "python",
   "name": "python3"
  },
  "language_info": {
   "codemirror_mode": {
    "name": "ipython",
    "version": 3
   },
   "file_extension": ".py",
   "mimetype": "text/x-python",
   "name": "python",
   "nbconvert_exporter": "python",
   "pygments_lexer": "ipython3",
   "version": "3.9.13"
  }
 },
 "nbformat": 4,
 "nbformat_minor": 2
}
